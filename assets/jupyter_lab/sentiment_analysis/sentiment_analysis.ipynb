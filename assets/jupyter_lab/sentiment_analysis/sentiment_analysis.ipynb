{
 "cells": [
  {
   "cell_type": "markdown",
   "id": "54d139a2-b3dd-48b0-aab8-fb45fdb051a9",
   "metadata": {},
   "source": [
    "# Import and initialize"
   ]
  },
  {
   "cell_type": "code",
   "execution_count": 1,
   "id": "cf6c083e-0035-4d3c-a284-de716663cdf3",
   "metadata": {},
   "outputs": [],
   "source": [
    "# Import pandas\n",
    "import pandas as pd"
   ]
  },
  {
   "cell_type": "code",
   "execution_count": 2,
   "id": "aa58474b-83cb-4406-8dcb-948735f51c77",
   "metadata": {},
   "outputs": [],
   "source": [
    "# Import csv file (source)\n",
    "df_customer_review = pd.read_csv(\"customer_reviews.csv\")"
   ]
  },
  {
   "cell_type": "code",
   "execution_count": 3,
   "id": "1e796fe5-7fd2-4480-b6e8-29b46d93132b",
   "metadata": {},
   "outputs": [
    {
     "data": {
      "text/html": [
       "<div>\n",
       "<style scoped>\n",
       "    .dataframe tbody tr th:only-of-type {\n",
       "        vertical-align: middle;\n",
       "    }\n",
       "\n",
       "    .dataframe tbody tr th {\n",
       "        vertical-align: top;\n",
       "    }\n",
       "\n",
       "    .dataframe thead th {\n",
       "        text-align: right;\n",
       "    }\n",
       "</style>\n",
       "<table border=\"1\" class=\"dataframe\">\n",
       "  <thead>\n",
       "    <tr style=\"text-align: right;\">\n",
       "      <th></th>\n",
       "      <th>ReviewID</th>\n",
       "      <th>CustomerID</th>\n",
       "      <th>ProductID</th>\n",
       "      <th>ReviewDate</th>\n",
       "      <th>Rating</th>\n",
       "      <th>ReviewText</th>\n",
       "    </tr>\n",
       "  </thead>\n",
       "  <tbody>\n",
       "    <tr>\n",
       "      <th>0</th>\n",
       "      <td>1</td>\n",
       "      <td>77</td>\n",
       "      <td>18</td>\n",
       "      <td>12/23/2022</td>\n",
       "      <td>3</td>\n",
       "      <td>Average experience, nothing special.</td>\n",
       "    </tr>\n",
       "    <tr>\n",
       "      <th>1</th>\n",
       "      <td>2</td>\n",
       "      <td>80</td>\n",
       "      <td>19</td>\n",
       "      <td>12/25/2024</td>\n",
       "      <td>5</td>\n",
       "      <td>The quality is  top-notch.</td>\n",
       "    </tr>\n",
       "    <tr>\n",
       "      <th>2</th>\n",
       "      <td>3</td>\n",
       "      <td>50</td>\n",
       "      <td>13</td>\n",
       "      <td>1/26/2023</td>\n",
       "      <td>4</td>\n",
       "      <td>Five stars for the quick delivery.</td>\n",
       "    </tr>\n",
       "  </tbody>\n",
       "</table>\n",
       "</div>"
      ],
      "text/plain": [
       "   ReviewID  CustomerID  ProductID  ReviewDate  Rating  \\\n",
       "0         1          77         18  12/23/2022       3   \n",
       "1         2          80         19  12/25/2024       5   \n",
       "2         3          50         13   1/26/2023       4   \n",
       "\n",
       "                             ReviewText  \n",
       "0  Average experience, nothing special.  \n",
       "1            The quality is  top-notch.  \n",
       "2    Five stars for the quick delivery.  "
      ]
     },
     "execution_count": 3,
     "metadata": {},
     "output_type": "execute_result"
    }
   ],
   "source": [
    "# Display the first 3 rows of the DataFrame to check the data\n",
    "df_customer_review.head(3)"
   ]
  },
  {
   "cell_type": "code",
   "execution_count": 4,
   "id": "7e406854-244f-4c9c-90ef-6564d6825a15",
   "metadata": {},
   "outputs": [
    {
     "data": {
      "text/plain": [
       "(1363, 6)"
      ]
     },
     "execution_count": 4,
     "metadata": {},
     "output_type": "execute_result"
    }
   ],
   "source": [
    "# Get the number of rows and columns in the DataFrame\n",
    "df_customer_review.shape"
   ]
  },
  {
   "cell_type": "code",
   "execution_count": 5,
   "id": "bbf50822-db4c-4d63-b440-2079ce978037",
   "metadata": {},
   "outputs": [
    {
     "name": "stdout",
     "output_type": "stream",
     "text": [
      "<class 'pandas.core.frame.DataFrame'>\n",
      "RangeIndex: 1363 entries, 0 to 1362\n",
      "Data columns (total 6 columns):\n",
      " #   Column      Non-Null Count  Dtype \n",
      "---  ------      --------------  ----- \n",
      " 0   ReviewID    1363 non-null   int64 \n",
      " 1   CustomerID  1363 non-null   int64 \n",
      " 2   ProductID   1363 non-null   int64 \n",
      " 3   ReviewDate  1363 non-null   object\n",
      " 4   Rating      1363 non-null   int64 \n",
      " 5   ReviewText  1363 non-null   object\n",
      "dtypes: int64(4), object(2)\n",
      "memory usage: 64.0+ KB\n"
     ]
    }
   ],
   "source": [
    "# Check the data types and non-null counts for each column\n",
    "df_customer_review.info()"
   ]
  },
  {
   "cell_type": "code",
   "execution_count": null,
   "id": "c55141eb-c8e9-4701-bb48-f7c8cd6283f5",
   "metadata": {},
   "outputs": [],
   "source": [
    "# Install the Natural Language Toolkit (nltk) through pip\n",
    "!pip install nltk"
   ]
  },
  {
   "cell_type": "code",
   "execution_count": 7,
   "id": "7433b2f4-ef21-4f0f-a963-0b04f7033c74",
   "metadata": {},
   "outputs": [],
   "source": [
    "# Import nltk library and SentimentIntensityAnalyzer for sentiment analysis\n",
    "import nltk\n",
    "from nltk.sentiment.vader import SentimentIntensityAnalyzer"
   ]
  },
  {
   "cell_type": "code",
   "execution_count": null,
   "id": "d5ceecf2-cbc5-41b6-b345-0efe6903a07f",
   "metadata": {},
   "outputs": [],
   "source": [
    "# Download the VADER lexicon for sentiment analysis\n",
    "nltk.download('vader_lexicon')"
   ]
  },
  {
   "cell_type": "code",
   "execution_count": 9,
   "id": "ea212a34-f613-4adc-93d6-964c673de9d2",
   "metadata": {},
   "outputs": [],
   "source": [
    "# Initialize the Sentiment Intensity Analyzer for sentiment analysis\n",
    "sia = SentimentIntensityAnalyzer()"
   ]
  },
  {
   "cell_type": "markdown",
   "id": "26e6dde5-e8cc-49ea-a1fa-9b24b2d6250e",
   "metadata": {},
   "source": [
    "# Try the analyzer:\n",
    "Check all results to see how sentiment analyzer works"
   ]
  },
  {
   "cell_type": "code",
   "execution_count": 10,
   "id": "00d1eb75-264c-4ea3-9173-13211462b372",
   "metadata": {},
   "outputs": [],
   "source": [
    "# Sample texts to evaluate using the sentiment analysis tool\n",
    "text1 = \"I am very happy, your service is brilliant!\"\n",
    "text2 = \"Five stars for the quick delivery.\"\n",
    "text3 = \"I should say I am really happy with this service, but it's brilliantly FUCKED!\"\n",
    "text4 = \"The quality is top-notch.\""
   ]
  },
  {
   "cell_type": "code",
   "execution_count": 11,
   "id": "c9d11f58-b235-408c-bd4d-35a6fba02846",
   "metadata": {},
   "outputs": [],
   "source": [
    "# Analyze sentiment of text1, text2, text3, and text4 using the sentiment analyzer\n",
    "sentiment_scores1 = sia.polarity_scores(text1)\n",
    "sentiment_scores2 = sia.polarity_scores(text2)\n",
    "sentiment_scores3 = sia.polarity_scores(text3)\n",
    "sentiment_scores4 = sia.polarity_scores(text4)"
   ]
  },
  {
   "cell_type": "code",
   "execution_count": 12,
   "id": "3bc78d66-bba0-42df-9a62-80f8f469959a",
   "metadata": {},
   "outputs": [
    {
     "name": "stdout",
     "output_type": "stream",
     "text": [
      "{'neg': 0.0, 'neu': 0.382, 'pos': 0.618, 'compound': 0.8436}\n"
     ]
    }
   ],
   "source": [
    "# Print the sentiment analysis results for text1\n",
    "print(sentiment_scores1)"
   ]
  },
  {
   "cell_type": "code",
   "execution_count": 13,
   "id": "baad6ed3-91a5-4c0b-9c7f-9d7752cece9f",
   "metadata": {},
   "outputs": [
    {
     "name": "stdout",
     "output_type": "stream",
     "text": [
      "{'neg': 0.0, 'neu': 1.0, 'pos': 0.0, 'compound': 0.0}\n"
     ]
    }
   ],
   "source": [
    "# Print the sentiment analysis results for text2\n",
    "print(sentiment_scores2)"
   ]
  },
  {
   "cell_type": "code",
   "execution_count": 14,
   "id": "f093e894-8472-41de-a5f0-4290bc6a1373",
   "metadata": {},
   "outputs": [
    {
     "name": "stdout",
     "output_type": "stream",
     "text": [
      "{'neg': 0.294, 'neu': 0.368, 'pos': 0.338, 'compound': -0.1268}\n"
     ]
    }
   ],
   "source": [
    "# Print the sentiment analysis results for text3\n",
    "print(sentiment_scores3)"
   ]
  },
  {
   "cell_type": "code",
   "execution_count": 15,
   "id": "e5c212cd-52ff-4af6-a1f7-22325ca14458",
   "metadata": {},
   "outputs": [
    {
     "name": "stdout",
     "output_type": "stream",
     "text": [
      "{'neg': 0.0, 'neu': 1.0, 'pos': 0.0, 'compound': 0.0}\n"
     ]
    }
   ],
   "source": [
    "# Print the sentiment analysis results for text4\n",
    "print(sentiment_scores4)"
   ]
  },
  {
   "cell_type": "markdown",
   "id": "8866001c-8ebd-4883-b1a2-969caa9a3b99",
   "metadata": {},
   "source": [
    "Note: It seems that it is not functioning properly. We need to add some words to the dictionary and preprocess the text due to some minor issues."
   ]
  },
  {
   "cell_type": "markdown",
   "id": "f306bb5c-85be-449f-a590-7bebcb42c4d5",
   "metadata": {},
   "source": [
    "# Update the analyzer:"
   ]
  },
  {
   "cell_type": "code",
   "execution_count": 16,
   "id": "5f594004-44eb-41dd-9d30-6e29e86662c5",
   "metadata": {},
   "outputs": [],
   "source": [
    "# Define custom sentiment scores for specific words/phrases and add them to the VADER lexicon\n",
    "custom_words = {\n",
    "    'notch': 1.5,\n",
    "    'top notch': 2.0,\n",
    "    'top-notch': 2.0,\n",
    "    'star': 2.0, \n",
    "    'stars': 2.5, \n",
    "}\n",
    "for word, score in custom_words.items():\n",
    "    sia.lexicon[word] = score"
   ]
  },
  {
   "cell_type": "code",
   "execution_count": 17,
   "id": "0c43855e-8b94-45ab-b010-dbcf69aee6f9",
   "metadata": {},
   "outputs": [],
   "source": [
    "# Uncomment to print the updated VADER lexicon with custom sentiment scores\n",
    "#print(sia.lexicon)"
   ]
  },
  {
   "cell_type": "code",
   "execution_count": 18,
   "id": "e7d2e5c8-e997-4552-9685-0b05093c0bae",
   "metadata": {},
   "outputs": [],
   "source": [
    "# Define additional sample texts for sentiment analysis\n",
    "text5 = \"Five stars for the quick delivery.\"\n",
    "text6 = \"The quality is top-notch.\""
   ]
  },
  {
   "cell_type": "code",
   "execution_count": 19,
   "id": "3ccb8aeb-0089-4983-b76b-bb8cd3c1f577",
   "metadata": {},
   "outputs": [],
   "source": [
    "# Replace hyphens with spaces in text6 to ensure proper sentiment analysis\n",
    "text6 = text6.replace(\"-\", \" \")"
   ]
  },
  {
   "cell_type": "code",
   "execution_count": 20,
   "id": "431995c5-7a05-449b-86af-da9ae892c559",
   "metadata": {},
   "outputs": [
    {
     "data": {
      "text/plain": [
       "'The quality is top notch.'"
      ]
     },
     "execution_count": 20,
     "metadata": {},
     "output_type": "execute_result"
    }
   ],
   "source": [
    "# Show updated text6 after replacing hyphens with spaces for better analysis\n",
    "text6"
   ]
  },
  {
   "cell_type": "code",
   "execution_count": 21,
   "id": "83bc7518-2db4-42cf-80a9-c7546a88e088",
   "metadata": {},
   "outputs": [],
   "source": [
    "# Analyze sentiment of text5 and text6 using the sentiment analyzer\n",
    "sentiment_scores5 = sia.polarity_scores(text5)\n",
    "sentiment_scores6 = sia.polarity_scores(text6)"
   ]
  },
  {
   "cell_type": "code",
   "execution_count": 22,
   "id": "119eadd8-a611-4e51-9829-0608513a94b9",
   "metadata": {},
   "outputs": [
    {
     "name": "stdout",
     "output_type": "stream",
     "text": [
      "{'neg': 0.0, 'neu': 0.588, 'pos': 0.412, 'compound': 0.5423}\n"
     ]
    }
   ],
   "source": [
    "# Print the sentiment analysis results for text5\n",
    "print(sentiment_scores5)"
   ]
  },
  {
   "cell_type": "code",
   "execution_count": 23,
   "id": "9549a77d-cbb1-4e84-a06a-f05e250d7bed",
   "metadata": {},
   "outputs": [
    {
     "name": "stdout",
     "output_type": "stream",
     "text": [
      "{'neg': 0.0, 'neu': 0.411, 'pos': 0.589, 'compound': 0.5106}\n"
     ]
    }
   ],
   "source": [
    "# Print the sentiment analysis results for text6\n",
    "print(sentiment_scores6)"
   ]
  },
  {
   "cell_type": "markdown",
   "id": "04ffc9a4-2653-44ef-864a-c9b8d276f5fa",
   "metadata": {},
   "source": [
    "Note: It appears that everything is functioning properly."
   ]
  },
  {
   "cell_type": "markdown",
   "id": "21d1440a-3e30-4a6b-9b33-a1e0a00d949e",
   "metadata": {},
   "source": [
    "# Define functions for sentiment analysis and related tasks"
   ]
  },
  {
   "cell_type": "code",
   "execution_count": 24,
   "id": "c5baa890-73cf-4e8b-b720-1b2ba838cd29",
   "metadata": {},
   "outputs": [],
   "source": [
    "def calculate_sentiment_score(text):\n",
    "    \"\"\"\n",
    "    Calculate the sentiment score of the input text using VADER sentiment analysis.\n",
    "    This function preprocesses the text by replacing hyphens with spaces and \n",
    "    returns the compound sentiment score, which ranges from -1 (negative) to +1 (positive).\n",
    "    \"\"\"\n",
    "    # Replace hyphens with spaces to improve analysis\n",
    "    text = text.replace(\"-\", \" \")\n",
    "    # Calculate the sentiment score using VADER and return the compound score\n",
    "    sentiment_score = sia.polarity_scores(text)\n",
    "    return sentiment_score[\"compound\"]"
   ]
  },
  {
   "cell_type": "code",
   "execution_count": 25,
   "id": "5466f8e3-75d6-4b3e-9fdf-e664d7720c56",
   "metadata": {},
   "outputs": [],
   "source": [
    "def classify_sentiment(rating, sentiment_score):\n",
    "    \"\"\"\n",
    "    Classifies the sentiment of a given rating based on a sentiment score.\n",
    "    It returns categories such as 'Positive', 'Slightly Positive', 'Slightly Negative', 'Negative', or 'Neutral' based on the rating and sentiment score.\n",
    "    \"\"\"\n",
    "    if sentiment_score > 0.05:  # Positive Sentiment\n",
    "        if rating >= 4:\n",
    "            return 'Positive'  # High rating and positive sentiment\n",
    "        elif rating == 3:\n",
    "            return 'Slightly Positive'  # Neutral rating but positive sentiment\n",
    "        else:\n",
    "            return 'Slightly Negative'  # Low rating but positive sentiment\n",
    "            \n",
    "    elif sentiment_score < -0.05:  # Negative Sentiment\n",
    "        if rating <= 2:\n",
    "            return 'Negative'  # Low rating and negative sentiment\n",
    "        elif rating == 3:\n",
    "            return 'Slightly Negative'  # Neutral rating but negative sentiment\n",
    "        else:\n",
    "            return 'Slightly Positive'  # High rating but negative sentiment\n",
    "            \n",
    "    else:  # Neutral Sentiment\n",
    "        if rating >= 4:\n",
    "            return 'Positive'  # High rating with neutral sentiment\n",
    "        elif rating <= 2:\n",
    "            return 'Negative'  # Low rating with neutral sentiment\n",
    "        else:\n",
    "            return 'Neutral'  # Neutral rating and neutral sentiment"
   ]
  },
  {
   "cell_type": "code",
   "execution_count": 26,
   "id": "99633a6d-ee93-4d2f-9b59-3d2cb0e1a923",
   "metadata": {},
   "outputs": [],
   "source": [
    "def sentiment_range(sentiment_score):\n",
    "    \"\"\"\n",
    "    Categorize the sentiment score into predefined ranges.\n",
    "    Returns a string indicating whether the sentiment is very positive, slightly positive, slightly negative, or very negative based on the score.\n",
    "    \"\"\"\n",
    "    if sentiment_score >= 0.5:\n",
    "        return '0.5 to 1.0'  # Very positive sentiment\n",
    "    elif 0.0 <= sentiment_score < 0.5:\n",
    "        return '0.0 to 0.49'  # Slightly positive sentiment\n",
    "    elif -0.5 <= sentiment_score < 0.0:\n",
    "        return '-0.49 to 0.0'  # Slightly negative sentiment\n",
    "    else:\n",
    "        return '-1.0 to -0.5'  # Very negative sentiment"
   ]
  },
  {
   "cell_type": "markdown",
   "id": "9c8e6c7a-1435-4c6f-aad1-bfe5c59b0fb5",
   "metadata": {},
   "source": [
    "# Apply functions and export csv file"
   ]
  },
  {
   "cell_type": "code",
   "execution_count": 27,
   "id": "cf4a7de5-475e-4aad-b1ae-cd8e81679498",
   "metadata": {},
   "outputs": [],
   "source": [
    "# Calculate the sentiment score for each review in the DataFrame and store it in a new column 'SentimentScore'\n",
    "df_customer_review[\"SentimentScore\"] = df_customer_review[\"ReviewText\"].apply(calculate_sentiment_score)"
   ]
  },
  {
   "cell_type": "code",
   "execution_count": 28,
   "id": "81af29d7-c481-4725-a1df-1b54e772ce6d",
   "metadata": {},
   "outputs": [
    {
     "data": {
      "text/html": [
       "<div>\n",
       "<style scoped>\n",
       "    .dataframe tbody tr th:only-of-type {\n",
       "        vertical-align: middle;\n",
       "    }\n",
       "\n",
       "    .dataframe tbody tr th {\n",
       "        vertical-align: top;\n",
       "    }\n",
       "\n",
       "    .dataframe thead th {\n",
       "        text-align: right;\n",
       "    }\n",
       "</style>\n",
       "<table border=\"1\" class=\"dataframe\">\n",
       "  <thead>\n",
       "    <tr style=\"text-align: right;\">\n",
       "      <th></th>\n",
       "      <th>ReviewID</th>\n",
       "      <th>CustomerID</th>\n",
       "      <th>ProductID</th>\n",
       "      <th>ReviewDate</th>\n",
       "      <th>Rating</th>\n",
       "      <th>ReviewText</th>\n",
       "      <th>SentimentScore</th>\n",
       "    </tr>\n",
       "  </thead>\n",
       "  <tbody>\n",
       "    <tr>\n",
       "      <th>0</th>\n",
       "      <td>1</td>\n",
       "      <td>77</td>\n",
       "      <td>18</td>\n",
       "      <td>12/23/2022</td>\n",
       "      <td>3</td>\n",
       "      <td>Average experience, nothing special.</td>\n",
       "      <td>-0.3089</td>\n",
       "    </tr>\n",
       "    <tr>\n",
       "      <th>1</th>\n",
       "      <td>2</td>\n",
       "      <td>80</td>\n",
       "      <td>19</td>\n",
       "      <td>12/25/2024</td>\n",
       "      <td>5</td>\n",
       "      <td>The quality is  top-notch.</td>\n",
       "      <td>0.5106</td>\n",
       "    </tr>\n",
       "    <tr>\n",
       "      <th>2</th>\n",
       "      <td>3</td>\n",
       "      <td>50</td>\n",
       "      <td>13</td>\n",
       "      <td>1/26/2023</td>\n",
       "      <td>4</td>\n",
       "      <td>Five stars for the quick delivery.</td>\n",
       "      <td>0.5423</td>\n",
       "    </tr>\n",
       "  </tbody>\n",
       "</table>\n",
       "</div>"
      ],
      "text/plain": [
       "   ReviewID  CustomerID  ProductID  ReviewDate  Rating  \\\n",
       "0         1          77         18  12/23/2022       3   \n",
       "1         2          80         19  12/25/2024       5   \n",
       "2         3          50         13   1/26/2023       4   \n",
       "\n",
       "                             ReviewText  SentimentScore  \n",
       "0  Average experience, nothing special.         -0.3089  \n",
       "1            The quality is  top-notch.          0.5106  \n",
       "2    Five stars for the quick delivery.          0.5423  "
      ]
     },
     "execution_count": 28,
     "metadata": {},
     "output_type": "execute_result"
    }
   ],
   "source": [
    "# Display the first three rows of the updated DataFrame\n",
    "df_customer_review.head(3)"
   ]
  },
  {
   "cell_type": "code",
   "execution_count": 29,
   "id": "1d37e3b5-d88b-449f-a0b7-88672f46fb71",
   "metadata": {},
   "outputs": [],
   "source": [
    "# Classify sentiment for each review based on the 'Rating' and 'SentimentScore', and store the result in a new column 'SentimentClassification'\n",
    "df_customer_review[\"SentimentClassification\"] = df_customer_review.apply(lambda review: classify_sentiment(review['Rating'], review['SentimentScore']), axis=1)"
   ]
  },
  {
   "cell_type": "code",
   "execution_count": 30,
   "id": "c0873f78-5d84-47e4-be8a-27496c719870",
   "metadata": {},
   "outputs": [
    {
     "data": {
      "text/html": [
       "<div>\n",
       "<style scoped>\n",
       "    .dataframe tbody tr th:only-of-type {\n",
       "        vertical-align: middle;\n",
       "    }\n",
       "\n",
       "    .dataframe tbody tr th {\n",
       "        vertical-align: top;\n",
       "    }\n",
       "\n",
       "    .dataframe thead th {\n",
       "        text-align: right;\n",
       "    }\n",
       "</style>\n",
       "<table border=\"1\" class=\"dataframe\">\n",
       "  <thead>\n",
       "    <tr style=\"text-align: right;\">\n",
       "      <th></th>\n",
       "      <th>ReviewID</th>\n",
       "      <th>CustomerID</th>\n",
       "      <th>ProductID</th>\n",
       "      <th>ReviewDate</th>\n",
       "      <th>Rating</th>\n",
       "      <th>ReviewText</th>\n",
       "      <th>SentimentScore</th>\n",
       "      <th>SentimentClassification</th>\n",
       "    </tr>\n",
       "  </thead>\n",
       "  <tbody>\n",
       "    <tr>\n",
       "      <th>0</th>\n",
       "      <td>1</td>\n",
       "      <td>77</td>\n",
       "      <td>18</td>\n",
       "      <td>12/23/2022</td>\n",
       "      <td>3</td>\n",
       "      <td>Average experience, nothing special.</td>\n",
       "      <td>-0.3089</td>\n",
       "      <td>Slightly Negative</td>\n",
       "    </tr>\n",
       "    <tr>\n",
       "      <th>1</th>\n",
       "      <td>2</td>\n",
       "      <td>80</td>\n",
       "      <td>19</td>\n",
       "      <td>12/25/2024</td>\n",
       "      <td>5</td>\n",
       "      <td>The quality is  top-notch.</td>\n",
       "      <td>0.5106</td>\n",
       "      <td>Positive</td>\n",
       "    </tr>\n",
       "    <tr>\n",
       "      <th>2</th>\n",
       "      <td>3</td>\n",
       "      <td>50</td>\n",
       "      <td>13</td>\n",
       "      <td>1/26/2023</td>\n",
       "      <td>4</td>\n",
       "      <td>Five stars for the quick delivery.</td>\n",
       "      <td>0.5423</td>\n",
       "      <td>Positive</td>\n",
       "    </tr>\n",
       "    <tr>\n",
       "      <th>3</th>\n",
       "      <td>4</td>\n",
       "      <td>78</td>\n",
       "      <td>15</td>\n",
       "      <td>4/21/2023</td>\n",
       "      <td>3</td>\n",
       "      <td>Good quality, but could be cheaper.</td>\n",
       "      <td>0.2382</td>\n",
       "      <td>Slightly Positive</td>\n",
       "    </tr>\n",
       "    <tr>\n",
       "      <th>4</th>\n",
       "      <td>5</td>\n",
       "      <td>64</td>\n",
       "      <td>2</td>\n",
       "      <td>7/16/2022</td>\n",
       "      <td>3</td>\n",
       "      <td>Average experience, nothing special.</td>\n",
       "      <td>-0.3089</td>\n",
       "      <td>Slightly Negative</td>\n",
       "    </tr>\n",
       "  </tbody>\n",
       "</table>\n",
       "</div>"
      ],
      "text/plain": [
       "   ReviewID  CustomerID  ProductID  ReviewDate  Rating  \\\n",
       "0         1          77         18  12/23/2022       3   \n",
       "1         2          80         19  12/25/2024       5   \n",
       "2         3          50         13   1/26/2023       4   \n",
       "3         4          78         15   4/21/2023       3   \n",
       "4         5          64          2   7/16/2022       3   \n",
       "\n",
       "                             ReviewText  SentimentScore  \\\n",
       "0  Average experience, nothing special.         -0.3089   \n",
       "1            The quality is  top-notch.          0.5106   \n",
       "2    Five stars for the quick delivery.          0.5423   \n",
       "3   Good quality, but could be cheaper.          0.2382   \n",
       "4  Average experience, nothing special.         -0.3089   \n",
       "\n",
       "  SentimentClassification  \n",
       "0       Slightly Negative  \n",
       "1                Positive  \n",
       "2                Positive  \n",
       "3       Slightly Positive  \n",
       "4       Slightly Negative  "
      ]
     },
     "execution_count": 30,
     "metadata": {},
     "output_type": "execute_result"
    }
   ],
   "source": [
    "# Display the first five rows of the DataFrame to review the structure and contents, including the new columns 'SentimentScore' and 'SentimentClassification'\n",
    "df_customer_review.head(5)"
   ]
  },
  {
   "cell_type": "code",
   "execution_count": 31,
   "id": "284f5097-6c44-4d28-801b-d1613493d1c3",
   "metadata": {},
   "outputs": [],
   "source": [
    "# Categorize the sentiment score into predefined ranges and store the result in a new column 'SentimentRange'\n",
    "df_customer_review['SentimentRange'] = df_customer_review['SentimentScore'].apply(sentiment_range)"
   ]
  },
  {
   "cell_type": "code",
   "execution_count": 32,
   "id": "1bb6c03e-7682-4a44-9bd1-3859dd7f6ea1",
   "metadata": {},
   "outputs": [
    {
     "data": {
      "text/html": [
       "<div>\n",
       "<style scoped>\n",
       "    .dataframe tbody tr th:only-of-type {\n",
       "        vertical-align: middle;\n",
       "    }\n",
       "\n",
       "    .dataframe tbody tr th {\n",
       "        vertical-align: top;\n",
       "    }\n",
       "\n",
       "    .dataframe thead th {\n",
       "        text-align: right;\n",
       "    }\n",
       "</style>\n",
       "<table border=\"1\" class=\"dataframe\">\n",
       "  <thead>\n",
       "    <tr style=\"text-align: right;\">\n",
       "      <th></th>\n",
       "      <th>ReviewID</th>\n",
       "      <th>CustomerID</th>\n",
       "      <th>ProductID</th>\n",
       "      <th>ReviewDate</th>\n",
       "      <th>Rating</th>\n",
       "      <th>ReviewText</th>\n",
       "      <th>SentimentScore</th>\n",
       "      <th>SentimentClassification</th>\n",
       "      <th>SentimentRange</th>\n",
       "    </tr>\n",
       "  </thead>\n",
       "  <tbody>\n",
       "    <tr>\n",
       "      <th>0</th>\n",
       "      <td>1</td>\n",
       "      <td>77</td>\n",
       "      <td>18</td>\n",
       "      <td>12/23/2022</td>\n",
       "      <td>3</td>\n",
       "      <td>Average experience, nothing special.</td>\n",
       "      <td>-0.3089</td>\n",
       "      <td>Slightly Negative</td>\n",
       "      <td>-0.49 to 0.0</td>\n",
       "    </tr>\n",
       "    <tr>\n",
       "      <th>1</th>\n",
       "      <td>2</td>\n",
       "      <td>80</td>\n",
       "      <td>19</td>\n",
       "      <td>12/25/2024</td>\n",
       "      <td>5</td>\n",
       "      <td>The quality is  top-notch.</td>\n",
       "      <td>0.5106</td>\n",
       "      <td>Positive</td>\n",
       "      <td>0.5 to 1.0</td>\n",
       "    </tr>\n",
       "    <tr>\n",
       "      <th>2</th>\n",
       "      <td>3</td>\n",
       "      <td>50</td>\n",
       "      <td>13</td>\n",
       "      <td>1/26/2023</td>\n",
       "      <td>4</td>\n",
       "      <td>Five stars for the quick delivery.</td>\n",
       "      <td>0.5423</td>\n",
       "      <td>Positive</td>\n",
       "      <td>0.5 to 1.0</td>\n",
       "    </tr>\n",
       "    <tr>\n",
       "      <th>3</th>\n",
       "      <td>4</td>\n",
       "      <td>78</td>\n",
       "      <td>15</td>\n",
       "      <td>4/21/2023</td>\n",
       "      <td>3</td>\n",
       "      <td>Good quality, but could be cheaper.</td>\n",
       "      <td>0.2382</td>\n",
       "      <td>Slightly Positive</td>\n",
       "      <td>0.0 to 0.49</td>\n",
       "    </tr>\n",
       "    <tr>\n",
       "      <th>4</th>\n",
       "      <td>5</td>\n",
       "      <td>64</td>\n",
       "      <td>2</td>\n",
       "      <td>7/16/2022</td>\n",
       "      <td>3</td>\n",
       "      <td>Average experience, nothing special.</td>\n",
       "      <td>-0.3089</td>\n",
       "      <td>Slightly Negative</td>\n",
       "      <td>-0.49 to 0.0</td>\n",
       "    </tr>\n",
       "  </tbody>\n",
       "</table>\n",
       "</div>"
      ],
      "text/plain": [
       "   ReviewID  CustomerID  ProductID  ReviewDate  Rating  \\\n",
       "0         1          77         18  12/23/2022       3   \n",
       "1         2          80         19  12/25/2024       5   \n",
       "2         3          50         13   1/26/2023       4   \n",
       "3         4          78         15   4/21/2023       3   \n",
       "4         5          64          2   7/16/2022       3   \n",
       "\n",
       "                             ReviewText  SentimentScore  \\\n",
       "0  Average experience, nothing special.         -0.3089   \n",
       "1            The quality is  top-notch.          0.5106   \n",
       "2    Five stars for the quick delivery.          0.5423   \n",
       "3   Good quality, but could be cheaper.          0.2382   \n",
       "4  Average experience, nothing special.         -0.3089   \n",
       "\n",
       "  SentimentClassification SentimentRange  \n",
       "0       Slightly Negative   -0.49 to 0.0  \n",
       "1                Positive     0.5 to 1.0  \n",
       "2                Positive     0.5 to 1.0  \n",
       "3       Slightly Positive    0.0 to 0.49  \n",
       "4       Slightly Negative   -0.49 to 0.0  "
      ]
     },
     "execution_count": 32,
     "metadata": {},
     "output_type": "execute_result"
    }
   ],
   "source": [
    "# Display the DataFrame \"df_customer_review\"\n",
    "df_customer_review.head()"
   ]
  },
  {
   "cell_type": "code",
   "execution_count": 33,
   "id": "562b6837-08ec-40e0-b603-429bd388bd20",
   "metadata": {},
   "outputs": [],
   "source": [
    "# Save the final dataframe into a CSV file with UTF-8-sig encoding for Excel\n",
    "df_customer_review.to_csv(\"customer_analyzed_reviews.csv\", index=False, encoding=\"utf-8-sig\")"
   ]
  }
 ],
 "metadata": {
  "kernelspec": {
   "display_name": "Python 3 (ipykernel)",
   "language": "python",
   "name": "python3"
  },
  "language_info": {
   "codemirror_mode": {
    "name": "ipython",
    "version": 3
   },
   "file_extension": ".py",
   "mimetype": "text/x-python",
   "name": "python",
   "nbconvert_exporter": "python",
   "pygments_lexer": "ipython3",
   "version": "3.12.7"
  }
 },
 "nbformat": 4,
 "nbformat_minor": 5
}
